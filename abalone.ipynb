{
 "cells": [
  {
   "cell_type": "markdown",
   "metadata": {},
   "source": [
    "## 数据集为：‘abalone_benchmarks’，使用PyOD库中各类算法进行异常检测，并比较各类算法的精度。"
   ]
  },
  {
   "cell_type": "code",
   "execution_count": 16,
   "metadata": {},
   "outputs": [],
   "source": [
    "import pandas as pd\n",
    "import os\n",
    "import numpy as np\n",
    "from pyod.models.abod import ABOD\n",
    "from pyod.models.cblof import CBLOF\n",
    "from pyod.models.feature_bagging import FeatureBagging\n",
    "from pyod.models.hbos import HBOS\n",
    "from pyod.models.iforest import IForest\n",
    "from pyod.models.knn import KNN\n",
    "from pyod.models.lof import LOF\n",
    "from sklearn.model_selection import train_test_split\n",
    "from pyod.utils.utility import precision_n_scores\n",
    "from sklearn.metrics import roc_auc_score\n",
    "import warnings\n",
    "warnings.filterwarnings(\"ignore\")"
   ]
  },
  {
   "cell_type": "markdown",
   "metadata": {},
   "source": [
    "### 进行数据预处理，将'nominal'和 'anomaly': 分别映射为‘0’和‘1’，并提取V1-V7为特征，'ground.truth'为lable"
   ]
  },
  {
   "cell_type": "code",
   "execution_count": 17,
   "metadata": {},
   "outputs": [],
   "source": [
    "label_mapping = {\n",
    "           'nominal': 0,\n",
    "           'anomaly': 1}\n",
    "col_n = ['V1','V2','V3', 'V4','V5','V6', 'V7', 'ground.truth']"
   ]
  },
  {
   "cell_type": "markdown",
   "metadata": {},
   "source": [
    "### 采用PYOD库中7种算法，分别为Angle-Based Outlier Detection (ABOD)，k-Nearest Neighbors Detector，Average KNN，Isolation Forest，Histogram-based Outlier Detection，Feature Bagging，Clustering Based Local Outlier Factor"
   ]
  },
  {
   "cell_type": "code",
   "execution_count": 18,
   "metadata": {},
   "outputs": [],
   "source": [
    "# Define seven outlier detection tools to be compared\n",
    "classifiers = {\n",
    "        'Angle-based Outlier Detector (ABOD)': ABOD(),\n",
    "        'Cluster-based Local Outlier Factor (CBLOF)':CBLOF(check_estimator=False),\n",
    "        'Feature Bagging':FeatureBagging(LOF(n_neighbors=35),check_estimator=False),\n",
    "        'Histogram-base Outlier Detection (HBOS)': HBOS(),\n",
    "        'Isolation Forest': IForest(),\n",
    "        'K Nearest Neighbors (KNN)': KNN(),\n",
    "        'Average KNN': KNN(method='mean')\n",
    "}"
   ]
  },
  {
   "cell_type": "markdown",
   "metadata": {},
   "source": [
    "### 数据集包括近1800个CSV文件，首先读取目录下所有数据文件"
   ]
  },
  {
   "cell_type": "code",
   "execution_count": 19,
   "metadata": {},
   "outputs": [],
   "source": [
    "Roc_train=[]\n",
    "Roc_test=[]\n",
    "Prn_train=[]\n",
    "Prn_test=[]\n",
    "\n",
    "path='C:/Users/ThinkPad/Desktop/dm-data/abalone/benchmarks'\n",
    "files= os.listdir(path)"
   ]
  },
  {
   "cell_type": "markdown",
   "metadata": {},
   "source": [
    "### 分别用7种算法对所有进1800个数据进行预测，每一份数据文件按照80%为训练集，20%为测试集进行划分，针对训练集和测试集分别计算Roc和precision @ rank n两项指标,并抽样显示预测精度结果。"
   ]
  },
  {
   "cell_type": "code",
   "execution_count": 20,
   "metadata": {},
   "outputs": [
    {
     "name": "stdout",
     "output_type": "stream",
     "text": [
      "数据文件： abalone_benchmark_0105.csv ，其测试集ROC为: [0.961 0.752 0.599 0.73  0.591 0.983 0.983]\n",
      "数据文件： abalone_benchmark_0206.csv ，其测试集ROC为: [0.696 0.565 0.571 0.477 0.457 0.705 0.707]\n",
      "数据文件： abalone_benchmark_0306.csv ，其测试集ROC为: [0.531 0.202 0.361 0.646 0.602 0.65  0.653]\n",
      "数据文件： abalone_benchmark_0483.csv ，其测试集ROC为: [0.607 0.236 0.637 0.025 0.125 0.483 0.533]\n",
      "数据文件： abalone_benchmark_0602.csv ，其测试集ROC为: [0.944 0.847 0.812 0.918 0.906 0.955 0.947]\n",
      "数据文件： abalone_benchmark_0716.csv ，其测试集ROC为: [1. 1. 1. 1. 1. 1. 1.]\n",
      "数据文件： abalone_benchmark_0821.csv ，其测试集ROC为: [0.971 0.863 0.942 0.591 0.807 0.937 0.942]\n",
      "数据文件： abalone_benchmark_0928.csv ，其测试集ROC为: [0.833 0.661 0.637 0.834 0.769 0.846 0.848]\n",
      "数据文件： abalone_benchmark_1028.csv ，其测试集ROC为: [0.822 0.778 0.809 0.715 0.737 0.825 0.829]\n",
      "数据文件： abalone_benchmark_1128.csv ，其测试集ROC为: [0.928 0.902 0.828 0.928 0.913 0.94  0.936]\n",
      "数据文件： abalone_benchmark_1236.csv ，其测试集ROC为: [0.726 0.646 0.616 0.684 0.641 0.731 0.72 ]\n",
      "数据文件： abalone_benchmark_1336.csv ，其测试集ROC为: [0.838 0.738 0.706 0.708 0.712 0.828 0.828]\n",
      "数据文件： abalone_benchmark_1436.csv ，其测试集ROC为: [0.737 0.675 0.657 0.677 0.648 0.756 0.759]\n",
      "数据文件： abalone_benchmark_1536.csv ，其测试集ROC为: [0.773 0.725 0.705 0.689 0.706 0.797 0.78 ]\n",
      "数据文件： abalone_benchmark_1636.csv ，其测试集ROC为: [0.799 0.805 0.653 0.852 0.793 0.835 0.83 ]\n",
      "数据文件： abalone_benchmark_1736.csv ，其测试集ROC为: [0.767 0.699 0.667 0.68  0.655 0.772 0.765]\n"
     ]
    }
   ],
   "source": [
    "a=0\n",
    "for file in files: \n",
    "    \n",
    "    \n",
    "    df = pd.read_csv(path+'/'+file)\n",
    "    df['ground.truth'] = df['ground.truth'].map(label_mapping)\n",
    "    \n",
    "    data = pd.DataFrame(df,columns = col_n)\n",
    "        \n",
    "    x = data.iloc[:, :-1]\n",
    "    y = data.iloc[:, -1:]\n",
    "    x_train, x_test, y_train, y_test = train_test_split(x, y, test_size=0.2, random_state=0)\n",
    "    \n",
    "\n",
    "    x_train = np.array(x_train)\n",
    "    x_test = np.array(x_test)\n",
    "    y_train = np.array(y_train)\n",
    "    y_test = np.array(y_test)\n",
    "    \n",
    "    roc_train=[]\n",
    "    roc_test=[]\n",
    "    prn_train=[]\n",
    "    prn_test=[]\n",
    "    for i, (clf_name, clf) in enumerate(classifiers.items()):\n",
    "        clf.fit(x_train)\n",
    "        y_train_pred = clf.labels_  # binary labels (0: inliers, 1: outliers)\n",
    "        y_train_scores = clf.decision_scores_  # raw outlier scores\n",
    "        \n",
    "        # get the prediction on the test data\n",
    "        y_test_pred = clf.predict(x_test)  # outlier labels (0 or 1)\n",
    "        y_test_scores = clf.decision_function(x_test)  # outlier scores\n",
    "        \n",
    "        roc_train.append(roc_auc_score(y_train, y_train_scores))\n",
    "        roc_test.append(roc_auc_score(y_test, y_test_scores))\n",
    "        \n",
    "        prn_train.append(precision_n_scores(y_train, y_train_scores))\n",
    "        prn_test.append(precision_n_scores(y_test, y_test_scores))\n",
    "    \n",
    "    a=a+1\n",
    "    if a%100==0:\n",
    "        print('数据文件：',file, '，其测试集ROC为:',np.round(roc_test, decimals=3),)    \n",
    "    Roc_train.append(roc_train)\n",
    "    Roc_test.append(roc_test)\n",
    "    Prn_train.append(prn_train)\n",
    "    Prn_test.append(prn_test)"
   ]
  },
  {
   "cell_type": "markdown",
   "metadata": {},
   "source": [
    "### 计算7种算法两项指标的的平均值"
   ]
  },
  {
   "cell_type": "code",
   "execution_count": 21,
   "metadata": {},
   "outputs": [],
   "source": [
    "Roc_train=np.round(np.mean(Roc_train,axis=0), decimals=3)\n",
    "Roc_test=np.round(np.mean(Roc_test,axis=0), decimals=3)\n",
    "Prn_train=np.round(np.mean(Prn_train,axis=0), decimals=3)\n",
    "Prn_test=np.round(np.mean(Prn_test,axis=0), decimals=3)"
   ]
  },
  {
   "cell_type": "markdown",
   "metadata": {},
   "source": [
    "### 从结果可以看出，训练集两项指标略优于测试集，Angle-Based Outlier Detection (ABOD)，k-Nearest Neighbors Detector，Average KNN优于其他算法，其中KNN算法最优"
   ]
  },
  {
   "cell_type": "code",
   "execution_count": 22,
   "metadata": {},
   "outputs": [
    {
     "name": "stdout",
     "output_type": "stream",
     "text": [
      "训练集ROC: [0.724 0.688 0.647 0.716 0.678 0.733 0.731]\n",
      "测试集ROC: [0.71  0.679 0.635 0.719 0.674 0.72  0.717]\n",
      "训练集PRN: [0.302 0.281 0.23  0.296 0.267 0.324 0.324]\n",
      "测试集PRN: [0.316 0.297 0.242 0.309 0.278 0.343 0.34 ]\n"
     ]
    }
   ],
   "source": [
    "print('训练集ROC:',Roc_train)\n",
    "print('测试集ROC:',Roc_test)\n",
    "print('训练集PRN:',Prn_train)\n",
    "print('测试集PRN:',Prn_test)"
   ]
  },
  {
   "cell_type": "markdown",
   "metadata": {},
   "source": [
    "### 通过柱状图进行直观比较各类算法ROC和Prn的具体表现"
   ]
  },
  {
   "cell_type": "code",
   "execution_count": 23,
   "metadata": {},
   "outputs": [
    {
     "data": {
      "image/png": "[encoded data removed]",
      "text/plain": [
       "<Figure size 1080x720 with 4 Axes>"
      ]
     },
     "metadata": {},
     "output_type": "display_data"
    }
   ],
   "source": [
    "import matplotlib.pyplot as plt\n",
    "import seaborn as sns\n",
    "\n",
    "x=['ABOD','CBLOF','FeatureBagging','HBOS','IForest','KNN','AKNN']\n",
    "\n",
    "fig,axes=plt.subplots(2,2,figsize=(15, 10))\n",
    "sns.barplot(x, Roc_train,ax=axes[0][0])\n",
    "sns.barplot(x, Roc_test,ax=axes[0][1])\n",
    "sns.barplot(x, Prn_train,ax=axes[1][0])\n",
    "sns.barplot(x, Prn_test,ax=axes[1][1])\n",
    "plt.rcParams['axes.unicode_minus'] = False\n",
    "sns.set_style('darkgrid', {'font.sans-serif':['SimHei', 'Arial']})\n",
    "axes[0][0].set_xlabel('算法', fontsize=10)\n",
    "axes[0][0].set_ylabel('roc', fontsize=10)\n",
    "axes[0][0].set_title('不同算法roc比较（训练集）')\n",
    "axes[0][1].set_xlabel('算法', fontsize=10)\n",
    "axes[0][1].set_ylabel('roc', fontsize=10)\n",
    "axes[0][1].set_title('不同算法roc比较（测试集）')\n",
    "axes[1][0].set_xlabel('算法', fontsize=10)\n",
    "axes[1][0].set_ylabel('prn', fontsize=10)\n",
    "axes[1][0].set_title('不同算法prn比较（训练集）')\n",
    "axes[1][1].set_xlabel('算法', fontsize=10)\n",
    "axes[1][1].set_ylabel('prn', fontsize=10)\n",
    "axes[1][1].set_title('不同算法prn比较（测试集）')\n",
    "\n",
    "plt.show()"
   ]
  },
  {
   "cell_type": "code",
   "execution_count": null,
   "metadata": {},
   "outputs": [],
   "source": []
  }
 ],
 "metadata": {
  "kernelspec": {
   "display_name": "Python 3",
   "language": "python",
   "name": "python3"
  },
  "language_info": {
   "codemirror_mode": {
    "name": "ipython",
    "version": 3
   },
   "file_extension": ".py",
   "mimetype": "text/x-python",
   "name": "python",
   "nbconvert_exporter": "python",
   "pygments_lexer": "ipython3",
   "version": "3.6.5"
  }
 },
 "nbformat": 4,
 "nbformat_minor": 2
}
