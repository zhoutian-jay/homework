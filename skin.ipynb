{
 "cells": [
  {
   "cell_type": "markdown",
   "metadata": {},
   "source": [
    "## 数据集为：‘skin_benchmarks’，使用PyOD库中各类算法进行异常检测，并比较各类算法的优劣。"
   ]
  },
  {
   "cell_type": "code",
   "execution_count": 14,
   "metadata": {},
   "outputs": [],
   "source": [
    "import pandas as pd\n",
    "import os\n",
    "import numpy as np\n",
    "from pyod.models.abod import ABOD\n",
    "from pyod.models.cblof import CBLOF\n",
    "from pyod.models.feature_bagging import FeatureBagging\n",
    "from pyod.models.hbos import HBOS\n",
    "from pyod.models.iforest import IForest\n",
    "from pyod.models.knn import KNN\n",
    "from pyod.models.lof import LOF\n",
    "from sklearn.model_selection import train_test_split\n",
    "from pyod.utils.utility import precision_n_scores\n",
    "from sklearn.metrics import roc_auc_score\n",
    "import warnings\n",
    "warnings.filterwarnings(\"ignore\")"
   ]
  },
  {
   "cell_type": "markdown",
   "metadata": {},
   "source": [
    "### 进行数据预处理，将'nominal'和 'anomaly': 分别映射为‘0’和‘1’，并提取'R','G','B', 'diff.score'为特征，'ground.truth'为lable"
   ]
  },
  {
   "cell_type": "code",
   "execution_count": 15,
   "metadata": {},
   "outputs": [],
   "source": [
    "label_mapping = {\n",
    "           'nominal': 0,\n",
    "           'anomaly': 1}\n",
    "col_n = ['R','G','B','diff.score','original.label','ground.truth']"
   ]
  },
  {
   "cell_type": "markdown",
   "metadata": {},
   "source": [
    "### 采用PYOD库中6种算法，分别为k-Nearest Neighbors Detector，Average KNN，Isolation Forest，Histogram-based Outlier Detection，Feature Bagging，Clustering Based Local Outlier Factor"
   ]
  },
  {
   "cell_type": "code",
   "execution_count": 16,
   "metadata": {},
   "outputs": [],
   "source": [
    "# Define seven outlier detection tools to be compared\n",
    "classifiers = {\n",
    "        'Cluster-based Local Outlier Factor (CBLOF)':CBLOF(check_estimator=False),\n",
    "        'Feature Bagging':FeatureBagging(LOF(n_neighbors=35),check_estimator=False),\n",
    "        'Histogram-base Outlier Detection (HBOS)': HBOS(),\n",
    "        'Isolation Forest': IForest(),\n",
    "        'K Nearest Neighbors (KNN)': KNN(),\n",
    "        'Average KNN': KNN(method='mean')\n",
    "}"
   ]
  },
  {
   "cell_type": "markdown",
   "metadata": {},
   "source": [
    "### 数据集包括近1800个CSV文件，首先读取目录下所有数据文件"
   ]
  },
  {
   "cell_type": "code",
   "execution_count": 17,
   "metadata": {},
   "outputs": [],
   "source": [
    "Roc_train=[]\n",
    "Roc_test=[]\n",
    "Prn_train=[]\n",
    "Prn_test=[]\n",
    "\n",
    "path='C:/Users/ThinkPad/Desktop/dm-data/skin/benchmarks'\n",
    "files= os.listdir(path)"
   ]
  },
  {
   "cell_type": "markdown",
   "metadata": {},
   "source": [
    "### 分别用PYOD里6种算法对所有进1800个数据进行预测，每一份数据文件按照80%为训练集，20%为测试集进行划分，针对训练集和测试集分别计算Roc和precision @ rank n两项指标,并抽样显示。"
   ]
  },
  {
   "cell_type": "code",
   "execution_count": 18,
   "metadata": {},
   "outputs": [
    {
     "name": "stdout",
     "output_type": "stream",
     "text": [
      "数据文件： skin_benchmark_0100.csv ，其测试集ROC为: [0.4   0.071 0.385 0.443 0.286 0.29 ]\n",
      "数据文件： skin_benchmark_0200.csv ，其测试集ROC为: [0.067 0.206 0.824 0.504 0.13  0.134]\n",
      "数据文件： skin_benchmark_0300.csv ，其测试集ROC为: [0.594 0.63  0.559 0.559 0.565 0.565]\n",
      "数据文件： skin_benchmark_0400.csv ，其测试集ROC为: [0. 0. 0. 0. 0. 0.]\n",
      "数据文件： skin_benchmark_0500.csv ，其测试集ROC为: [0. 0. 1. 0. 1. 1.]\n",
      "数据文件： skin_benchmark_0660.csv ，其测试集ROC为: [0.    0.    0.333 1.    0.143 0.   ]\n",
      "数据文件： skin_benchmark_0760.csv ，其测试集ROC为: [0.    0.    1.    0.286 0.143 0.286]\n",
      "数据文件： skin_benchmark_0920.csv ，其测试集ROC为: [0.    0.    0.333 0.833 0.    0.   ]\n",
      "数据文件： skin_benchmark_1020.csv ，其测试集ROC为: [0.    0.412 0.25  0.412 0.059 0.176]\n",
      "数据文件： skin_benchmark_1120.csv ，其测试集ROC为: [0.    0.75  0.833 0.833 0.167 0.167]\n",
      "数据文件： skin_benchmark_1280.csv ，其测试集ROC为: [0.    0.    0.278 0.407 0.111 0.13 ]\n",
      "数据文件： skin_benchmark_1380.csv ，其测试集ROC为: [0.078 0.047 0.75  0.859 0.219 0.188]\n",
      "数据文件： skin_benchmark_1540.csv ，其测试集ROC为: [0.551 0.    0.315 0.433 0.15  0.165]\n",
      "数据文件： skin_benchmark_1640.csv ，其测试集ROC为: [0.069 0.235 0.549 0.667 0.088 0.088]\n",
      "数据文件： skin_benchmark_1740.csv ，其测试集ROC为: [0.132 0.044 0.824 0.757 0.125 0.14 ]\n"
     ]
    }
   ],
   "source": [
    "a=0\n",
    "for file in files: \n",
    "    \n",
    "    \n",
    "    df = pd.read_csv(path+'/'+file)\n",
    "   \n",
    "    df['ground.truth'] = df['ground.truth'].map(label_mapping)\n",
    "    #df = df.replace([np.inf, -np.inf], np.nan)\n",
    "    #print(data.isnull().sum())\n",
    "    #df.dropna()\n",
    "    \n",
    "    data = pd.DataFrame(df,columns = col_n)\n",
    "    \n",
    "      \n",
    "    x = data.iloc[:, :-1]\n",
    "    y = data.iloc[:, -1:]\n",
    "    x_train, x_test, y_train, y_test = train_test_split(x, y, test_size=0.2, random_state=0)\n",
    "    \n",
    "\n",
    "    x_train = np.array(x_train)\n",
    "    x_test = np.array(x_test)\n",
    "    y_train = np.array(y_train)\n",
    "    y_test = np.array(y_test)\n",
    "    \n",
    "    roc_train=[]\n",
    "    roc_test=[]\n",
    "    prn_train=[]\n",
    "    prn_test=[]\n",
    "    for i, (clf_name, clf) in enumerate(classifiers.items()):\n",
    "        clf.fit(x_train)\n",
    "        y_train_pred = clf.labels_  # binary labels (0: inliers, 1: outliers)\n",
    "        y_train_scores = clf.decision_scores_  # raw outlier scores\n",
    "        \n",
    "        # get the prediction on the test data\n",
    "        y_test_pred = clf.predict(x_test)  # outlier labels (0 or 1)\n",
    "        y_test_scores = clf.decision_function(x_test)  # outlier scores\n",
    "        \n",
    "        #roc_train.append(roc_auc_score(y_train, y_train_scores))\n",
    "        #roc_test.append(roc_auc_score(y_test, y_test_scores))\n",
    "        \n",
    "        prn_train.append(precision_n_scores(y_train, y_train_scores))\n",
    "        prn_test.append(precision_n_scores(y_test, y_test_scores))\n",
    "    \n",
    "    a=a+1\n",
    "    if a%100==0:\n",
    "        print('数据文件：',file, '，其测试集ROC为:',np.round(prn_test, decimals=3))    \n",
    "    #Roc_train.append(roc_train)\n",
    "    #Roc_test.append(roc_test)\n",
    "    Prn_train.append(prn_train)\n",
    "    Prn_test.append(prn_test)"
   ]
  },
  {
   "cell_type": "markdown",
   "metadata": {},
   "source": [
    "### 计算6种算法两项指标的的平均值"
   ]
  },
  {
   "cell_type": "code",
   "execution_count": 19,
   "metadata": {},
   "outputs": [],
   "source": [
    "#Roc_train=np.round(np.mean(Roc_train,axis=0), decimals=3)\n",
    "#Roc_test=np.round(np.mean(Roc_test,axis=0), decimals=3)\n",
    "Prn_train=np.round(np.mean(Prn_train,axis=0), decimals=3)\n",
    "Prn_test=np.round(np.mean(Prn_test,axis=0), decimals=3)"
   ]
  },
  {
   "cell_type": "markdown",
   "metadata": {},
   "source": [
    "### 从结果可以看出，训练集两项指标略优于测试集，Isolation Forest，Histogram-based Outlier Detection优于其他算法，其中Histogram-based Outlier Detection算法最优"
   ]
  },
  {
   "cell_type": "code",
   "execution_count": 20,
   "metadata": {},
   "outputs": [
    {
     "name": "stdout",
     "output_type": "stream",
     "text": [
      "Prn_train: [0.126 0.141 0.564 0.481 0.213 0.25 ]\n",
      "Prn_test: [0.128 0.136 0.566 0.479 0.253 0.278]\n"
     ]
    }
   ],
   "source": [
    "#print('Roc_train:',Roc_train)\n",
    "#print('Roc_test:',Roc_test)\n",
    "print('Prn_train:',Prn_train)\n",
    "print('Prn_test:',Prn_test)"
   ]
  },
  {
   "cell_type": "markdown",
   "metadata": {},
   "source": [
    "### 通过柱状图进行直观比较各类算法Prn的具体表现"
   ]
  },
  {
   "cell_type": "code",
   "execution_count": 21,
   "metadata": {},
   "outputs": [
    {
     "data": {
      "image/png": "[encoded data removed]",
      "text/plain": [
       "<Figure size 1080x432 with 2 Axes>"
      ]
     },
     "metadata": {},
     "output_type": "display_data"
    }
   ],
   "source": [
    "import matplotlib.pyplot as plt\n",
    "import seaborn as sns\n",
    "\n",
    "x=['CBLOF','FeatureBagging','HBOS','IForest','KNN','AKNN']\n",
    "\n",
    "fig,(ax1,ax2)=plt.subplots(1,2,figsize=(15,6))\n",
    "#sns.barplot(x, Roc_train,ax=ax1)\n",
    "#sns.barplot(x, Roc_test,ax=ax1)\n",
    "sns.barplot(x, Prn_train,ax=ax1)\n",
    "sns.barplot(x, Prn_test,ax=ax2)\n",
    "plt.rcParams['axes.unicode_minus'] = False\n",
    "sns.set_style('darkgrid', {'font.sans-serif':['SimHei', 'Arial']})\n",
    "\n",
    "ax1.set_xlabel('models', fontsize=20)\n",
    "ax1.set_ylabel('prn', fontsize=20)\n",
    "ax1.set_title('不同算法prn比较（训练集）',fontsize=20)\n",
    "ax2.set_xlabel('models', fontsize=20)\n",
    "ax2.set_ylabel('prn', fontsize=20)\n",
    "ax2.set_title('不同算法prn比较（测试集）',fontsize=20)\n",
    "\n",
    "plt.show()"
   ]
  }
 ],
 "metadata": {
  "kernelspec": {
   "display_name": "Python 3",
   "language": "python",
   "name": "python3"
  },
  "language_info": {
   "codemirror_mode": {
    "name": "ipython",
    "version": 3
   },
   "file_extension": ".py",
   "mimetype": "text/x-python",
   "name": "python",
   "nbconvert_exporter": "python",
   "pygments_lexer": "ipython3",
   "version": "3.6.5"
  }
 },
 "nbformat": 4,
 "nbformat_minor": 2
}
